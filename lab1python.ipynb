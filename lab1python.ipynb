{
  "nbformat": 4,
  "nbformat_minor": 0,
  "metadata": {
    "colab": {
      "provenance": [],
      "authorship_tag": "ABX9TyPdHaq33pjDjGdHabe1ath9",
      "include_colab_link": true
    },
    "kernelspec": {
      "name": "python3",
      "display_name": "Python 3"
    },
    "language_info": {
      "name": "python"
    }
  },
  "cells": [
    {
      "cell_type": "markdown",
      "metadata": {
        "id": "view-in-github",
        "colab_type": "text"
      },
      "source": [
        "<a href=\"https://colab.research.google.com/github/Danya2005113/jarvis/blob/master/lab1python.ipynb\" target=\"_parent\"><img src=\"https://colab.research.google.com/assets/colab-badge.svg\" alt=\"Open In Colab\"/></a>"
      ]
    },
    {
      "cell_type": "markdown",
      "source": [
        "# Гана"
      ],
      "metadata": {
        "id": "0-Br0XAu4Jm8"
      }
    },
    {
      "cell_type": "markdown",
      "source": [
        "## Основна інформація"
      ],
      "metadata": {
        "id": "kh6jmztj4N3c"
      }
    },
    {
      "cell_type": "markdown",
      "source": [
        "**Гана** — країна в Західній Африці, яка межує на заході з Кот-д'Івуаром, на півночі з Буркіна-Фасо, на сході з Того та на півдні омивається Гвінейською затокою."
      ],
      "metadata": {
        "id": "eh9uFFvz4QRn"
      }
    },
    {
      "cell_type": "markdown",
      "source": [
        "### Загальні дані"
      ],
      "metadata": {
        "id": "3XDxXzYZ4TK_"
      }
    },
    {
      "cell_type": "markdown",
      "source": [
        "- **Площа:** 238,533 км²\n",
        "- **Населення:** 31.07 мільйонів (2021 р.)\n",
        "- **Державний устрій:** Унітарна республіка з президентською формою правління\n",
        "- **Столиця:** Аккра"
      ],
      "metadata": {
        "id": "8j5A2Wmk4Ut8"
      }
    },
    {
      "cell_type": "markdown",
      "source": [
        "## Видатні особистості"
      ],
      "metadata": {
        "id": "fDmMm__v4WFB"
      }
    },
    {
      "cell_type": "markdown",
      "source": [
        "1. **Кваме Нкрума** — перший президент та лідер боротьби за незалежність Гани.\n",
        "2. **Кофі Аннан** — колишній Генеральний секретар ООН.\n",
        "3. **Азум Нельсон** — відомий боксер."
      ],
      "metadata": {
        "id": "wfHZISWt4XiW"
      }
    },
    {
      "cell_type": "markdown",
      "source": [
        "## Пам'ятки культури та природи\n",
        "### Культурні пам'ятки"
      ],
      "metadata": {
        "id": "GTYDooG-4ZP_"
      }
    },
    {
      "cell_type": "markdown",
      "source": [
        "- **Замок Кейп-Кост** — історична фортеця, побудована португальцями у 16 столітті.\n",
        "- **Національний музей Гани** — найбільший і найстаріший музей у країні."
      ],
      "metadata": {
        "id": "6yyJXo_J4cXK"
      }
    },
    {
      "cell_type": "markdown",
      "source": [
        "### Природні пам'ятки"
      ],
      "metadata": {
        "id": "Q289T1X84efo"
      }
    },
    {
      "cell_type": "markdown",
      "source": [
        "- **Національний парк Какум** — відомий своїми підвісними мостами у тропічних лісах.\n",
        "- **Водоспад Влі** — один з найвищих водоспадів Західної Африки."
      ],
      "metadata": {
        "id": "0ToP39TH4fx6"
      }
    },
    {
      "cell_type": "markdown",
      "source": [
        "![Національний парк Какум](https://i.vimeocdn.com/video/545812708-2c925a4ca7396bbd99f305f9502abbaefa4f07b1c8df1f9e108ae51f37f28900-d_640?f=webp)"
      ],
      "metadata": {
        "id": "v-RC2DuH4hHn"
      }
    },
    {
      "cell_type": "markdown",
      "source": [
        "## Економіка"
      ],
      "metadata": {
        "id": "m_aaQxdz4ip1"
      }
    },
    {
      "cell_type": "markdown",
      "source": [
        "**Економіка Гани** базується на видобутку золота, какао та нафти. Країна є одним з найбільших експортерів какао у світі."
      ],
      "metadata": {
        "id": "RqTYJUCO4kfN"
      }
    },
    {
      "cell_type": "markdown",
      "source": [
        "## Таблиця ключових показників"
      ],
      "metadata": {
        "id": "TUig93lF4mM8"
      }
    },
    {
      "cell_type": "markdown",
      "source": [
        "| Показник            | Значення       |\n",
        "|---------------------|----------------|\n",
        "| Площа               | 238,533 км²    |\n",
        "| Населення           | 31.07 млн      |\n",
        "| Офіційна мова       | Англійська     |\n",
        "| Валюта              | Ганський седі  |\n",
        "| ВВП (на душу)       | $2,328         |\n",
        "| Головний експортер  | Какао, золото  |"
      ],
      "metadata": {
        "id": "8HLRSmVA4ndN"
      }
    },
    {
      "cell_type": "markdown",
      "source": [
        "## Список цікавих фактів"
      ],
      "metadata": {
        "id": "lu3vq-_b4pTk"
      }
    },
    {
      "cell_type": "markdown",
      "source": [
        "- Гана здобула незалежність від Великої Британії 6 березня 1957 року.\n",
        "- У 1960 році Гана стала республікою.\n",
        "- Країна є домом для більш ніж 100 етнічних груп."
      ],
      "metadata": {
        "id": "O3Kw_Kl34qhI"
      }
    },
    {
      "cell_type": "markdown",
      "source": [
        "## Корисні посилання"
      ],
      "metadata": {
        "id": "N9mLngxi4r9f"
      }
    },
    {
      "cell_type": "markdown",
      "source": [
        "[Детальніше про Гану на Wikipedia](https://uk.wikipedia.org/wiki/Гана)"
      ],
      "metadata": {
        "id": "HuDcqFg44tFv"
      }
    },
    {
      "cell_type": "markdown",
      "source": [
        "<svg width=\"100\" height=\"60\">\n",
        "  <rect width=\"100\" height=\"20\" style=\"fill:red\"/>\n",
        "  <rect y=\"20\" width=\"100\" height=\"20\" style=\"fill:yellow\"/>\n",
        "  <rect y=\"40\" width=\"100\" height=\"20\" style=\"fill:green\"/>\n",
        "  <polygon points=\"50,20 54,36 40,28 60,28 46,36\" style=\"fill:black\"/>\n",
        "</svg>"
      ],
      "metadata": {
        "id": "JtYXx1vO4u0C"
      }
    },
    {
      "cell_type": "markdown",
      "source": [
        "<div style=\"border: 2px solid blue; padding: 10px; margin: 20px;\">\n",
        "  <h2 style=\"color: red;\">Кваме Нкрума</h2>\n",
        "  <p>Кваме Нкрума був першим президентом Гани і одним з найвідоміших борців за незалежність Африки.</p>\n",
        "</div>"
      ],
      "metadata": {
        "id": "eZqGu0vc4wgm"
      }
    },
    {
      "cell_type": "markdown",
      "source": [],
      "metadata": {
        "id": "9wGRCtOn4ycH"
      }
    },
    {
      "cell_type": "code",
      "source": [
        "import math\n",
        "\n",
        "def is_prime(n):\n",
        "    if n <= 1:\n",
        "        return False\n",
        "    if n <= 3:\n",
        "        return True\n",
        "    if n % 2 == 0 or n % 3 == 0:\n",
        "        return False\n",
        "    i = 5\n",
        "    while i * i <= n:\n",
        "        if n % i == 0 or n % (i + 2) == 0:\n",
        "            return False\n",
        "        i += 6\n",
        "    return True\n",
        "\n",
        "def kth_prime(k):\n",
        "    if k < 1:\n",
        "        raise ValueError(\"k must be a positive integer.\")\n",
        "\n",
        "    count = 0\n",
        "    num = 1\n",
        "    while count < k:\n",
        "        num += 1\n",
        "        if is_prime(num):\n",
        "            count += 1\n",
        "\n",
        "    return num\n",
        "\n",
        "def task_5():\n",
        "    try:\n",
        "        k = int(input(\"Enter the value of k: \"))\n",
        "        if k < 1:\n",
        "            raise ValueError(\"k must be a positive integer.\")\n",
        "        prime_number = kth_prime(k)\n",
        "        print(f\"{k}-те просте число - це {prime_number}\")\n",
        "    except ValueError as e:\n",
        "        print(e)\n",
        "\n",
        "# Тестові приклади\n",
        "task_5()  # Приклад 1: Введіть 5\n",
        "task_5()  # Приклад 2: Введіть 34\n"
      ],
      "metadata": {
        "colab": {
          "base_uri": "https://localhost:8080/"
        },
        "id": "-svIDu5N58Mk",
        "outputId": "c6687d7e-571f-4a85-b4f1-052ba573b3b8"
      },
      "execution_count": 1,
      "outputs": [
        {
          "output_type": "stream",
          "name": "stdout",
          "text": [
            "Enter the value of k: 1\n",
            "1-те просте число - це 2\n",
            "Enter the value of k: 5\n",
            "5-те просте число - це 11\n"
          ]
        }
      ]
    }
  ]
}